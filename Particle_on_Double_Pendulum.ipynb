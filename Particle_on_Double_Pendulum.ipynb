{
 "cells": [
  {
   "cell_type": "markdown",
   "metadata": {},
   "source": [
    "# Overview of Practice Acitivty L5PA1\n",
    "<img src=\"Figures/Particle_sliding_on_Double_Pendulum.png\" height=300 width=300>\n",
    "This notebook uses the example of a particle $P$ sliding on a double pendulum (see figure above). The objective is to compute the:\n",
    "1. $^N{\\bf v}^P$, velocity of $P$ in $N$; and\n",
    "2. $^N{\\bf a}^P$, acceleration of $P$ in $N$.\n",
    "You are to complete this task using the one-point theorem for velocity and acceleration."
   ]
  },
  {
   "cell_type": "markdown",
   "metadata": {},
   "source": [
    "# Problem set-up\n",
    "## Create constants using `symbols` and time-varying scalars using `dynamicsymbols`"
   ]
  },
  {
   "cell_type": "code",
   "execution_count": 1,
   "metadata": {},
   "outputs": [],
   "source": [
    "from sympy import symbols, sin, cos\n",
    "from sympy.physics.mechanics import dynamicsymbols, ReferenceFrame, init_vprinting\n",
    "init_vprinting()\n",
    "l = symbols('l')\n",
    "theta_1, theta_2, x = dynamicsymbols('theta_1, theta_2, x')\n",
    "x_dot = dynamicsymbols('x', 1)"
   ]
  },
  {
   "cell_type": "markdown",
   "metadata": {},
   "source": [
    "## Create and orient reference frames $N$, $A$, and $B$"
   ]
  },
  {
   "cell_type": "markdown",
   "metadata": {},
   "source": [
    "Next, we create the three reference frames $N$, $A$, and $B$, which are stored in the variable names `N`, `A`, and `B`,  respectively."
   ]
  },
  {
   "cell_type": "code",
   "execution_count": 2,
   "metadata": {},
   "outputs": [],
   "source": [
    "N = ReferenceFrame('N')\n",
    "A = ReferenceFrame('A')\n",
    "B = ReferenceFrame('B')"
   ]
  },
  {
   "cell_type": "markdown",
   "metadata": {},
   "source": [
    "Then, the `.orient` methods can be called on `A` and `B` using the `'Axis'` rotation type, as shown below:"
   ]
  },
  {
   "cell_type": "code",
   "execution_count": 3,
   "metadata": {},
   "outputs": [
    {
     "data": {
      "image/png": "[encoded data removed]",
      "text/latex": [
       "$\\displaystyle \\dot{\\theta}_{1}\\mathbf{\\hat{n}_z}$"
      ],
      "text/plain": [
       "θ₁̇ n_z"
      ]
     },
     "execution_count": 3,
     "metadata": {},
     "output_type": "execute_result"
    }
   ],
   "source": [
    "A.orient(N, 'Axis', (theta_1, N.z))\n",
    "A.ang_vel_in(N)"
   ]
  },
  {
   "cell_type": "code",
   "execution_count": 5,
   "metadata": {},
   "outputs": [
    {
     "data": {
      "image/png": "[encoded data removed]",
      "text/latex": [
       "$\\displaystyle \\dot{\\theta}_{2}\\mathbf{\\hat{a}_z}$"
      ],
      "text/plain": [
       "θ₂̇ a_z"
      ]
     },
     "execution_count": 5,
     "metadata": {},
     "output_type": "execute_result"
    }
   ],
   "source": [
    "B.orient(A, 'Axis', (theta_2, A.z))\n",
    "B.ang_vel_in(A)"
   ]
  },
  {
   "cell_type": "markdown",
   "metadata": {},
   "source": [
    "## Create the points $O$, $Q$, and $P$\n",
    "Next, we need to create three points:\n",
    "1. $O$ is the point of contact between link $A$ and ceiling $N$; the corresponding variable name we use is `O`\n",
    "2. $Q$ is the point of contact between link $A$ and link $B$; the corresponding variable name we use is `Q`\n",
    "3. $P$ is also modeled as a point (massless particle) that slides on the link $B$; the corresponding variable name is `P`.\n",
    "\n",
    "Each of these points is made using `Point`, which we import from `sympy.physics.mechanics`, as below:"
   ]
  },
  {
   "cell_type": "code",
   "execution_count": 6,
   "metadata": {},
   "outputs": [],
   "source": [
    "from sympy.physics.mechanics import Point\n",
    "O = Point('O')\n",
    "Q = Point('Q')\n",
    "P = Point('P')"
   ]
  },
  {
   "cell_type": "markdown",
   "metadata": {},
   "source": [
    "We define the location of $Q$ relative to $O$"
   ]
  },
  {
   "cell_type": "code",
   "execution_count": 7,
   "metadata": {},
   "outputs": [],
   "source": [
    "Q.set_pos(O, l*A.y)\n",
    "Q.pos_from(O)\n",
    "O.set_vel(N, 0)"
   ]
  },
  {
   "cell_type": "markdown",
   "metadata": {},
   "source": [
    "# __Issue 1__: `v2pt` generates incomplete kinematics "
   ]
  },
  {
   "cell_type": "code",
   "execution_count": 8,
   "metadata": {},
   "outputs": [
    {
     "data": {
      "image/png": "[encoded data removed]",
      "text/latex": [
       "$\\displaystyle -  l \\dot{\\theta}_{1}\\mathbf{\\hat{a}_x}$"
      ],
      "text/plain": [
       "-l⋅θ₁̇ a_x"
      ]
     },
     "execution_count": 8,
     "metadata": {},
     "output_type": "execute_result"
    }
   ],
   "source": [
    "Q.v2pt_theory(O, N, A)"
   ]
  },
  {
   "cell_type": "markdown",
   "metadata": {},
   "source": [
    "This answer is obviously correct.\n",
    "\n",
    "But let's examine the velocitie of two points in $A$, which must be zero if they are indeed two points of the same rigid body:"
   ]
  },
  {
   "cell_type": "code",
   "execution_count": 9,
   "metadata": {},
   "outputs": [
    {
     "ename": "ValueError",
     "evalue": "Velocity of point O has not been defined in ReferenceFrame A",
     "output_type": "error",
     "traceback": [
      "\u001b[0;31m----------------------------------------------------------------\u001b[0m",
      "\u001b[0;31mValueError\u001b[0m                     Traceback (most recent call last)",
      "\u001b[0;32m<ipython-input-9-adc505c281b3>\u001b[0m in \u001b[0;36m<module>\u001b[0;34m\u001b[0m\n\u001b[0;32m----> 1\u001b[0;31m \u001b[0mO\u001b[0m\u001b[0;34m.\u001b[0m\u001b[0mvel\u001b[0m\u001b[0;34m(\u001b[0m\u001b[0mA\u001b[0m\u001b[0;34m)\u001b[0m\u001b[0;34m\u001b[0m\u001b[0;34m\u001b[0m\u001b[0m\n\u001b[0m",
      "\u001b[0;32m~/opt/anaconda3/lib/python3.7/site-packages/sympy/physics/vector/point.py\u001b[0m in \u001b[0;36mvel\u001b[0;34m(self, frame)\u001b[0m\n\u001b[1;32m    568\u001b[0m             \u001b[0;32melse\u001b[0m\u001b[0;34m:\u001b[0m\u001b[0;34m\u001b[0m\u001b[0;34m\u001b[0m\u001b[0m\n\u001b[1;32m    569\u001b[0m                 raise ValueError('Velocity of point ' + self.name + ' has not been'\n\u001b[0;32m--> 570\u001b[0;31m                              ' defined in ReferenceFrame ' + frame.name)\n\u001b[0m\u001b[1;32m    571\u001b[0m \u001b[0;34m\u001b[0m\u001b[0m\n\u001b[1;32m    572\u001b[0m         \u001b[0;32mreturn\u001b[0m \u001b[0mself\u001b[0m\u001b[0;34m.\u001b[0m\u001b[0m_vel_dict\u001b[0m\u001b[0;34m[\u001b[0m\u001b[0mframe\u001b[0m\u001b[0;34m]\u001b[0m\u001b[0;34m\u001b[0m\u001b[0;34m\u001b[0m\u001b[0m\n",
      "\u001b[0;31mValueError\u001b[0m: Velocity of point O has not been defined in ReferenceFrame A"
     ]
    }
   ],
   "source": [
    "O.vel(A)"
   ]
  },
  {
   "cell_type": "code",
   "execution_count": 10,
   "metadata": {},
   "outputs": [
    {
     "ename": "ValueError",
     "evalue": "Velocity of point Q has not been defined in ReferenceFrame A",
     "output_type": "error",
     "traceback": [
      "\u001b[0;31m----------------------------------------------------------------\u001b[0m",
      "\u001b[0;31mValueError\u001b[0m                     Traceback (most recent call last)",
      "\u001b[0;32m<ipython-input-10-0fc8041904cc>\u001b[0m in \u001b[0;36m<module>\u001b[0;34m\u001b[0m\n\u001b[0;32m----> 1\u001b[0;31m \u001b[0mQ\u001b[0m\u001b[0;34m.\u001b[0m\u001b[0mvel\u001b[0m\u001b[0;34m(\u001b[0m\u001b[0mA\u001b[0m\u001b[0;34m)\u001b[0m\u001b[0;34m\u001b[0m\u001b[0;34m\u001b[0m\u001b[0m\n\u001b[0m",
      "\u001b[0;32m~/opt/anaconda3/lib/python3.7/site-packages/sympy/physics/vector/point.py\u001b[0m in \u001b[0;36mvel\u001b[0;34m(self, frame)\u001b[0m\n\u001b[1;32m    568\u001b[0m             \u001b[0;32melse\u001b[0m\u001b[0;34m:\u001b[0m\u001b[0;34m\u001b[0m\u001b[0;34m\u001b[0m\u001b[0m\n\u001b[1;32m    569\u001b[0m                 raise ValueError('Velocity of point ' + self.name + ' has not been'\n\u001b[0;32m--> 570\u001b[0;31m                              ' defined in ReferenceFrame ' + frame.name)\n\u001b[0m\u001b[1;32m    571\u001b[0m \u001b[0;34m\u001b[0m\u001b[0m\n\u001b[1;32m    572\u001b[0m         \u001b[0;32mreturn\u001b[0m \u001b[0mself\u001b[0m\u001b[0;34m.\u001b[0m\u001b[0m_vel_dict\u001b[0m\u001b[0;34m[\u001b[0m\u001b[0mframe\u001b[0m\u001b[0;34m]\u001b[0m\u001b[0;34m\u001b[0m\u001b[0;34m\u001b[0m\u001b[0m\n",
      "\u001b[0;31mValueError\u001b[0m: Velocity of point Q has not been defined in ReferenceFrame A"
     ]
    }
   ],
   "source": [
    "Q.vel(A)"
   ]
  },
  {
   "cell_type": "markdown",
   "metadata": {},
   "source": [
    "## __Issue 2__: Incomplete relationships with `v1pt` between different `ReferenceFrame` objects, as well"
   ]
  },
  {
   "cell_type": "code",
   "execution_count": 11,
   "metadata": {},
   "outputs": [
    {
     "data": {
      "image/png": "[encoded data removed]",
      "text/latex": [
       "$\\displaystyle x\\mathbf{\\hat{b}_y}$"
      ],
      "text/plain": [
       "x b_y"
      ]
     },
     "execution_count": 11,
     "metadata": {},
     "output_type": "execute_result"
    }
   ],
   "source": [
    "P.set_pos(Q, x*B.y)\n",
    "P.pos_from(Q)"
   ]
  },
  {
   "cell_type": "code",
   "execution_count": 12,
   "metadata": {},
   "outputs": [
    {
     "data": {
      "image/png": "[encoded data removed]",
      "text/latex": [
       "$\\displaystyle \\dot{x}\\mathbf{\\hat{b}_y}$"
      ],
      "text/plain": [
       "ẋ b_y"
      ]
     },
     "execution_count": 12,
     "metadata": {},
     "output_type": "execute_result"
    }
   ],
   "source": [
    "P.set_vel(B, x_dot*B.y)\n",
    "P.vel(B)"
   ]
  },
  {
   "cell_type": "code",
   "execution_count": 13,
   "metadata": {},
   "outputs": [
    {
     "data": {
      "image/png": "[encoded data removed]",
      "text/latex": [
       "$\\displaystyle -  \\left(\\dot{\\theta}_{1} + \\dot{\\theta}_{2}\\right) x\\mathbf{\\hat{b}_x} + \\dot{x}\\mathbf{\\hat{b}_y} -  l \\dot{\\theta}_{1}\\mathbf{\\hat{a}_x}$"
      ],
      "text/plain": [
       "-(θ₁̇ + θ₂̇)⋅x b_x + ẋ b_y + -l⋅θ₁̇ a_x"
      ]
     },
     "execution_count": 13,
     "metadata": {},
     "output_type": "execute_result"
    }
   ],
   "source": [
    "P.v1pt_theory(Q,N,B)"
   ]
  },
  {
   "cell_type": "code",
   "execution_count": 14,
   "metadata": {},
   "outputs": [
    {
     "ename": "ValueError",
     "evalue": "Velocity of point P has not been defined in ReferenceFrame A",
     "output_type": "error",
     "traceback": [
      "\u001b[0;31m----------------------------------------------------------------\u001b[0m",
      "\u001b[0;31mValueError\u001b[0m                     Traceback (most recent call last)",
      "\u001b[0;32m<ipython-input-14-f947e06c0bad>\u001b[0m in \u001b[0;36m<module>\u001b[0;34m\u001b[0m\n\u001b[0;32m----> 1\u001b[0;31m \u001b[0mP\u001b[0m\u001b[0;34m.\u001b[0m\u001b[0mvel\u001b[0m\u001b[0;34m(\u001b[0m\u001b[0mA\u001b[0m\u001b[0;34m)\u001b[0m\u001b[0;34m\u001b[0m\u001b[0;34m\u001b[0m\u001b[0m\n\u001b[0m",
      "\u001b[0;32m~/opt/anaconda3/lib/python3.7/site-packages/sympy/physics/vector/point.py\u001b[0m in \u001b[0;36mvel\u001b[0;34m(self, frame)\u001b[0m\n\u001b[1;32m    568\u001b[0m             \u001b[0;32melse\u001b[0m\u001b[0;34m:\u001b[0m\u001b[0;34m\u001b[0m\u001b[0;34m\u001b[0m\u001b[0m\n\u001b[1;32m    569\u001b[0m                 raise ValueError('Velocity of point ' + self.name + ' has not been'\n\u001b[0;32m--> 570\u001b[0;31m                              ' defined in ReferenceFrame ' + frame.name)\n\u001b[0m\u001b[1;32m    571\u001b[0m \u001b[0;34m\u001b[0m\u001b[0m\n\u001b[1;32m    572\u001b[0m         \u001b[0;32mreturn\u001b[0m \u001b[0mself\u001b[0m\u001b[0;34m.\u001b[0m\u001b[0m_vel_dict\u001b[0m\u001b[0;34m[\u001b[0m\u001b[0mframe\u001b[0m\u001b[0;34m]\u001b[0m\u001b[0;34m\u001b[0m\u001b[0;34m\u001b[0m\u001b[0m\n",
      "\u001b[0;31mValueError\u001b[0m: Velocity of point P has not been defined in ReferenceFrame A"
     ]
    }
   ],
   "source": [
    "P.vel(A)"
   ]
  },
  {
   "cell_type": "code",
   "execution_count": 15,
   "metadata": {},
   "outputs": [
    {
     "ename": "ValueError",
     "evalue": "Velocity of point Q has not been defined in ReferenceFrame A",
     "output_type": "error",
     "traceback": [
      "\u001b[0;31m----------------------------------------------------------------\u001b[0m",
      "\u001b[0;31mValueError\u001b[0m                     Traceback (most recent call last)",
      "\u001b[0;32m<ipython-input-15-0fc8041904cc>\u001b[0m in \u001b[0;36m<module>\u001b[0;34m\u001b[0m\n\u001b[0;32m----> 1\u001b[0;31m \u001b[0mQ\u001b[0m\u001b[0;34m.\u001b[0m\u001b[0mvel\u001b[0m\u001b[0;34m(\u001b[0m\u001b[0mA\u001b[0m\u001b[0;34m)\u001b[0m\u001b[0;34m\u001b[0m\u001b[0;34m\u001b[0m\u001b[0m\n\u001b[0m",
      "\u001b[0;32m~/opt/anaconda3/lib/python3.7/site-packages/sympy/physics/vector/point.py\u001b[0m in \u001b[0;36mvel\u001b[0;34m(self, frame)\u001b[0m\n\u001b[1;32m    568\u001b[0m             \u001b[0;32melse\u001b[0m\u001b[0;34m:\u001b[0m\u001b[0;34m\u001b[0m\u001b[0;34m\u001b[0m\u001b[0m\n\u001b[1;32m    569\u001b[0m                 raise ValueError('Velocity of point ' + self.name + ' has not been'\n\u001b[0;32m--> 570\u001b[0;31m                              ' defined in ReferenceFrame ' + frame.name)\n\u001b[0m\u001b[1;32m    571\u001b[0m \u001b[0;34m\u001b[0m\u001b[0m\n\u001b[1;32m    572\u001b[0m         \u001b[0;32mreturn\u001b[0m \u001b[0mself\u001b[0m\u001b[0;34m.\u001b[0m\u001b[0m_vel_dict\u001b[0m\u001b[0;34m[\u001b[0m\u001b[0mframe\u001b[0m\u001b[0;34m]\u001b[0m\u001b[0;34m\u001b[0m\u001b[0;34m\u001b[0m\u001b[0m\n",
      "\u001b[0;31mValueError\u001b[0m: Velocity of point Q has not been defined in ReferenceFrame A"
     ]
    }
   ],
   "source": [
    "Q.vel(A)"
   ]
  },
  {
   "cell_type": "markdown",
   "metadata": {},
   "source": [
    "My argument is that we must enforce these constraints for zero velocity for points within the body inside of the `v2pt_theory` method (and also `v1pt_theory`).\n",
    "\n",
    "In fact, the description of this method says the following:\n",
    "`The 2-point theory for point velocity looks like this:\n",
    " ^N v^P = ^N v^O + ^N omega^B x r^OP\n",
    " where O and P are both points fixed in frame B, which is rotating in frame N.`\n",
    "\n",
    "__So, indeed, if O and P are both fixed in B, we must enforce their zero velocities within the method.__\n",
    "Consequently, the `v2pt_theory` (and `v1pt_theory`) are not really doing what (I believe) are their essence within the `mechanics` package. Additionally, this enables:\n",
    "1. automating kinematics computations in an intuitive manner for a student and a researcher (in my opinion);\n",
    "2. possibly generating multibody graphs for those who might wish to do that according to the Hinge operators etc. use by Jain; and\n",
    "3. facilitating robust book-keeping to overcome human error.\n",
    "\n",
    "Particularly when it comes to 3, I see that `sympy` can generate warnings that there may be something funky happening under the hood but still generate an output. But I think that is unreasonable and incorrect because we are offering two methods that are really not doing much in terms of completely making the kinematics information available to the user. I must be able to poke the velocity relationships from any ReferenceFrame once I have called the `v2pt_theory` on any point, as a dynamicist. That is precisely what my edits, albeit minor, are facilitating. For example:"
   ]
  },
  {
   "cell_type": "code",
   "execution_count": 16,
   "metadata": {},
   "outputs": [],
   "source": [
    "O.set_vel(A,0)"
   ]
  },
  {
   "cell_type": "code",
   "execution_count": 17,
   "metadata": {},
   "outputs": [
    {
     "data": {
      "image/png": "[encoded data removed]",
      "text/latex": [
       "$\\displaystyle -  l \\dot{\\theta}_{2}\\mathbf{\\hat{a}_x}$"
      ],
      "text/plain": [
       "-l⋅θ₂̇ a_x"
      ]
     },
     "execution_count": 17,
     "metadata": {},
     "output_type": "execute_result"
    }
   ],
   "source": [
    "O.vel(B)"
   ]
  },
  {
   "cell_type": "markdown",
   "metadata": {},
   "source": [
    "Making the change I have submitted avoids such errors, which would be hard to catch for researchers generating highly complex models, where they shoudln't have to spend time catching each `interframe` constrint."
   ]
  }
 ],
 "metadata": {
  "kernelspec": {
   "display_name": "Python 3",
   "language": "python",
   "name": "python3"
  },
  "language_info": {
   "codemirror_mode": {
    "name": "ipython",
    "version": 3
   },
   "file_extension": ".py",
   "mimetype": "text/x-python",
   "name": "python",
   "nbconvert_exporter": "python",
   "pygments_lexer": "ipython3",
   "version": "3.7.6"
  },
  "toc": {
   "base_numbering": 1,
   "nav_menu": {},
   "number_sections": true,
   "sideBar": true,
   "skip_h1_title": false,
   "title_cell": "Table of Contents",
   "title_sidebar": "Contents",
   "toc_cell": true,
   "toc_position": {},
   "toc_section_display": true,
   "toc_window_display": false
  }
 },
 "nbformat": 4,
 "nbformat_minor": 4
}
