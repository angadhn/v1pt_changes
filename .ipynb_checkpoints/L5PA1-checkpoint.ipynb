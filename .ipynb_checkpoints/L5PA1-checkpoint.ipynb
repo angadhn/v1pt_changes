{
 "cells": [
  {
   "cell_type": "markdown",
   "metadata": {
    "toc": true
   },
   "source": [
    "<h1>Table of Contents<span class=\"tocSkip\"></span></h1>\n",
    "<div class=\"toc\"><ul class=\"toc-item\"><li><span><a href=\"#Overview-of-Practice-Acitivty-L5PA1\" data-toc-modified-id=\"Overview-of-Practice-Acitivty-L5PA1-1\"><span class=\"toc-item-num\">1&nbsp;&nbsp;</span>Overview of Practice Acitivty L5PA1</a></span></li><li><span><a href=\"#Problem-set-up\" data-toc-modified-id=\"Problem-set-up-2\"><span class=\"toc-item-num\">2&nbsp;&nbsp;</span>Problem set-up</a></span><ul class=\"toc-item\"><li><span><a href=\"#Create-constants-using-symbols-and-time-varying-scalars-using-dynamicsymbols\" data-toc-modified-id=\"Create-constants-using-symbols-and-time-varying-scalars-using-dynamicsymbols-2.1\"><span class=\"toc-item-num\">2.1&nbsp;&nbsp;</span>Create constants using <code>symbols</code> and time-varying scalars using <code>dynamicsymbols</code></a></span></li><li><span><a href=\"#Create-and-orient-reference-frames-$N$,-$A$,-and-$B$\" data-toc-modified-id=\"Create-and-orient-reference-frames-$N$,-$A$,-and-$B$-2.2\"><span class=\"toc-item-num\">2.2&nbsp;&nbsp;</span>Create and orient reference frames $N$, $A$, and $B$</a></span></li><li><span><a href=\"#Create-the-points-$O$,-$Q$,-and-$P$\" data-toc-modified-id=\"Create-the-points-$O$,-$Q$,-and-$P$-2.3\"><span class=\"toc-item-num\">2.3&nbsp;&nbsp;</span>Create the points $O$, $Q$, and $P$</a></span></li></ul></li><li><span><a href=\"#Create-constant-scalars-using-symbols\" data-toc-modified-id=\"Create-constant-scalars-using-symbols-3\"><span class=\"toc-item-num\">3&nbsp;&nbsp;</span>Create constant scalars using <code>symbols</code></a></span></li><li><span><a href=\"#Creating-Reference-Frames\" data-toc-modified-id=\"Creating-Reference-Frames-4\"><span class=\"toc-item-num\">4&nbsp;&nbsp;</span>Creating Reference Frames</a></span></li><li><span><a href=\"#L3PA3\" data-toc-modified-id=\"L3PA3-5\"><span class=\"toc-item-num\">5&nbsp;&nbsp;</span>L3PA3</a></span><ul class=\"toc-item\"><li><span><a href=\"#Computing-$\\frac{^A-d}{dt}\\bf-r$\" data-toc-modified-id=\"Computing-$\\frac{^A-d}{dt}\\bf-r$-5.1\"><span class=\"toc-item-num\">5.1&nbsp;&nbsp;</span>Computing $\\frac{^A d}{dt}\\bf r$</a></span></li><li><span><a href=\"#Activity:-Computing-$\\frac{^B-d}{dt}\\bf-r$\" data-toc-modified-id=\"Activity:-Computing-$\\frac{^B-d}{dt}\\bf-r$-5.2\"><span class=\"toc-item-num\">5.2&nbsp;&nbsp;</span>Activity: Computing $\\frac{^B d}{dt}\\bf r$</a></span></li><li><span><a href=\"#Activity:-Re-compute-$\\frac{^A-d}{dt}\\bf-r$\" data-toc-modified-id=\"Activity:-Re-compute-$\\frac{^A-d}{dt}\\bf-r$-5.3\"><span class=\"toc-item-num\">5.3&nbsp;&nbsp;</span>Activity: Re-compute $\\frac{^A d}{dt}\\bf r$</a></span></li></ul></li></ul></div>"
   ]
  },
  {
   "cell_type": "markdown",
   "metadata": {},
   "source": [
    "# Overview of Practice Acitivty L5PA1\n",
    "<img src=\"Figures/Particle_sliding_on_Double_Pendulum.png\" height=300 width=300>\n",
    "\n",
    "This notebook use the example of a particle $P$ sliding on a double pendulum (see figure above); this system was first presented to you in the file \"7 Particle Kinematics\". Your objective is to compute the :\n",
    "1. $^N{\\bf v}^P$, velocity of $P$ in $N$; and\n",
    "2. $^N{\\bf a}^P$, acceleration of $P$ in $N$.\n",
    "\n",
    "You are to complete this task using:\n",
    "1. the defintions of velocity $^N{\\bf v}^P \\triangleq \\frac{^N d}{dt}{\\bf r}_{OP}$ and acceleration $^N{\\bf a}^P \\triangleq \\frac{^N d}{dt}{^N{\\bf v}^P}$\n",
    "2. the one-point theorem for velocity and acceleration."
   ]
  },
  {
   "cell_type": "markdown",
   "metadata": {},
   "source": [
    "# Problem set-up\n",
    "## Create constants using `symbols` and time-varying scalars using `dynamicsymbols`\n",
    "Below we create the scalar constant $l$, which is the length of the links $A$ and $B$; this is stored as the variable `l_scalar.`:"
   ]
  },
  {
   "cell_type": "code",
   "execution_count": 1,
   "metadata": {},
   "outputs": [],
   "source": [
    "from sympy import symbols, sin, cos\n",
    "from sympy.physics.mechanics import dynamicsymbols, ReferenceFrame, init_vprinting\n",
    "init_vprinting()\n",
    "l_scalar = symbols('l')"
   ]
  },
  {
   "cell_type": "markdown",
   "metadata": {},
   "source": [
    "A similar convention for naming variables is used to create `theta_1_scalar`, `theta_2_scalar`, and `x_scalar` to represent  $\\theta_1$, $\\theta_2$, and $x$. These are created as `dynamicsymbols` as they signifiy the time-varying variables in the figure above. This is done by:"
   ]
  },
  {
   "cell_type": "code",
   "execution_count": 2,
   "metadata": {},
   "outputs": [],
   "source": [
    "theta_1_scalar, theta_2_scalar, x_scalar = dynamicsymbols('theta_1, theta_2, x')\n",
    "x_scalar_dot = dynamicsymbols('x', 1)"
   ]
  },
  {
   "cell_type": "markdown",
   "metadata": {},
   "source": [
    "## Create and orient reference frames $N$, $A$, and $B$"
   ]
  },
  {
   "cell_type": "markdown",
   "metadata": {},
   "source": [
    "Next, we create the three reference frames $N$, $A$, and $B$, which are stored in the variable names `N`, `A`, and `B`,  respectively."
   ]
  },
  {
   "cell_type": "code",
   "execution_count": 3,
   "metadata": {},
   "outputs": [],
   "source": [
    "N = ReferenceFrame('N')\n",
    "A = ReferenceFrame('A')\n",
    "B = ReferenceFrame('B')"
   ]
  },
  {
   "cell_type": "markdown",
   "metadata": {},
   "source": [
    "Then, the `.orient` methods can be called on `A` and `B` using the `'Axis'` rotation type, as shown below:"
   ]
  },
  {
   "cell_type": "code",
   "execution_count": 4,
   "metadata": {},
   "outputs": [
    {
     "data": {
      "image/png": "[encoded data removed]",
      "text/latex": [
       "$\\displaystyle \\dot{\\theta}_{1}\\mathbf{\\hat{n}_z}$"
      ],
      "text/plain": [
       "θ₁̇ n_z"
      ]
     },
     "execution_count": 4,
     "metadata": {},
     "output_type": "execute_result"
    }
   ],
   "source": [
    "A.orient(N, 'Axis', (theta_1_scalar, N.z))\n",
    "A.ang_vel_in(N)"
   ]
  },
  {
   "cell_type": "code",
   "execution_count": 5,
   "metadata": {},
   "outputs": [
    {
     "data": {
      "image/png": "[encoded data removed]",
      "text/latex": [
       "$\\displaystyle \\dot{\\theta}_{2}\\mathbf{\\hat{a}_z} + \\dot{\\theta}_{1}\\mathbf{\\hat{n}_z}$"
      ],
      "text/plain": [
       "θ₂̇ a_z + θ₁̇ n_z"
      ]
     },
     "execution_count": 5,
     "metadata": {},
     "output_type": "execute_result"
    }
   ],
   "source": [
    "B.orient(A, 'Axis', (theta_2_scalar, N.z))\n",
    "B.ang_vel_in(N)"
   ]
  },
  {
   "cell_type": "markdown",
   "metadata": {},
   "source": [
    "## Create the points $O$, $Q$, and $P$\n",
    "Next, we need to create three points:\n",
    "1. $O$ is the point of contact between link $A$ and ceiling $N$; the corresponding variable name we use is `O`\n",
    "2. $Q$ is the point of contact between link $A$ and link $B$; the corresponding variable name we use is `Q`\n",
    "3. $P$ is also modeled as a point (massless particle) that slides on the link $B$; the corresponding variable name is `P`.\n",
    "\n",
    "Each of these points is made using `Point`, which we import from `sympy.physics.mechanics`, as below:"
   ]
  },
  {
   "cell_type": "code",
   "execution_count": 6,
   "metadata": {},
   "outputs": [],
   "source": [
    "from sympy.physics.mechanics import Point\n",
    "O = Point('O')\n",
    "Q = Point('Q')\n",
    "P = Point('P')"
   ]
  },
  {
   "cell_type": "markdown",
   "metadata": {},
   "source": [
    "We define the location of $Q$ relative to $O$"
   ]
  },
  {
   "cell_type": "code",
   "execution_count": 7,
   "metadata": {},
   "outputs": [
    {
     "data": {
      "image/png": "[encoded data removed]",
      "text/latex": [
       "$\\displaystyle l\\mathbf{\\hat{a}_y}$"
      ],
      "text/plain": [
       "l a_y"
      ]
     },
     "execution_count": 7,
     "metadata": {},
     "output_type": "execute_result"
    }
   ],
   "source": [
    "Q.set_pos(O, l_scalar*A.y)\n",
    "r_OQ_vector = Q.pos_from(O)\n",
    "r_OQ_vector"
   ]
  },
  {
   "cell_type": "markdown",
   "metadata": {},
   "source": [
    "and the location of $P$ relative to $Q$"
   ]
  },
  {
   "cell_type": "code",
   "execution_count": 8,
   "metadata": {},
   "outputs": [
    {
     "data": {
      "image/png": "[encoded data removed]",
      "text/latex": [
       "$\\displaystyle x\\mathbf{\\hat{b}_y}$"
      ],
      "text/plain": [
       "x b_y"
      ]
     },
     "execution_count": 8,
     "metadata": {},
     "output_type": "execute_result"
    }
   ],
   "source": [
    "P.set_pos(Q, x_scalar*B.y)\n",
    "r_QP_vector = P.pos_from(Q)\n",
    "r_QP_vector"
   ]
  },
  {
   "cell_type": "code",
   "execution_count": 9,
   "metadata": {},
   "outputs": [
    {
     "data": {
      "image/png": "[encoded data removed]",
      "text/latex": [
       "$\\displaystyle l\\mathbf{\\hat{a}_y} + x\\mathbf{\\hat{b}_y}$"
      ],
      "text/plain": [
       "l a_y + x b_y"
      ]
     },
     "execution_count": 9,
     "metadata": {},
     "output_type": "execute_result"
    }
   ],
   "source": [
    "r_OP_vector = r_OQ_vector + r_QP_vector\n",
    "r_OP_vector"
   ]
  },
  {
   "cell_type": "code",
   "execution_count": 10,
   "metadata": {},
   "outputs": [
    {
     "data": {
      "image/png": "[encoded data removed]",
      "text/latex": [
       "$\\displaystyle (- l \\dot{\\theta}_{1} - \\left(\\dot{\\theta}_{1} + \\dot{\\theta}_{2}\\right) x \\cos{\\left(\\theta_{2} \\right)} - \\sin{\\left(\\theta_{2} \\right)} \\dot{x})\\mathbf{\\hat{a}_x} + (- \\left(\\dot{\\theta}_{1} + \\dot{\\theta}_{2}\\right) x \\sin{\\left(\\theta_{2} \\right)} + \\cos{\\left(\\theta_{2} \\right)} \\dot{x})\\mathbf{\\hat{a}_y}$"
      ],
      "text/plain": [
       "(-l⋅θ₁̇ - (θ₁̇ + θ₂̇)⋅x⋅cos(θ₂) - sin(θ₂)⋅ẋ) a_x + (-(θ₁̇ + θ₂̇)⋅x⋅sin(θ₂) +\n",
       "cos(θ₂)⋅ẋ) a_y"
      ]
     },
     "execution_count": 10,
     "metadata": {},
     "output_type": "execute_result"
    }
   ],
   "source": [
    "N_v_P_approach1 = r_OP_vector.dt(N)\n",
    "N_v_P_approach1.express(A)"
   ]
  },
  {
   "cell_type": "markdown",
   "metadata": {},
   "source": [
    "## Approach 2: Writing out the one point theorem"
   ]
  },
  {
   "cell_type": "markdown",
   "metadata": {},
   "source": [
    "First, make sure that $O$ is fixed in all frames as a point of zero velocity. You are to force this by using the `.set_vel` method as shown below:"
   ]
  },
  {
   "cell_type": "code",
   "execution_count": 11,
   "metadata": {},
   "outputs": [],
   "source": [
    "O.set_vel(N, 0)\n",
    "O.set_vel(A, 0)\n",
    "O.set_vel(B, 0)\n",
    "N_v_O = O.vel(N)"
   ]
  },
  {
   "cell_type": "markdown",
   "metadata": {},
   "source": [
    "We also set the point $Q$ to be a point on both bodies $A$ and $B$:"
   ]
  },
  {
   "cell_type": "code",
   "execution_count": 12,
   "metadata": {},
   "outputs": [],
   "source": [
    "Q.set_vel(A, 0)\n",
    "Q.set_vel(B, 0)"
   ]
  },
  {
   "cell_type": "markdown",
   "metadata": {},
   "source": [
    "Then, we can compute the $^N{\\bf v}^Q$ by defining the the two-point formula, as below:"
   ]
  },
  {
   "cell_type": "code",
   "execution_count": 13,
   "metadata": {},
   "outputs": [
    {
     "data": {
      "image/png": "[encoded data removed]",
      "text/latex": [
       "$\\displaystyle -  l \\dot{\\theta}_{1}\\mathbf{\\hat{a}_x}$"
      ],
      "text/plain": [
       "-l⋅θ₁̇ a_x"
      ]
     },
     "execution_count": 13,
     "metadata": {},
     "output_type": "execute_result"
    }
   ],
   "source": [
    "N_w_A = A.ang_vel_in(N)\n",
    "N_v_Q = N_v_O + N_w_A.cross(r_OQ_vector)\n",
    "N_v_Q"
   ]
  },
  {
   "cell_type": "markdown",
   "metadata": {},
   "source": [
    "We know that our goal is to compute the $^N{\\bf v}^P$ using the the one-point formula. So, we first define the relative velocity term $^B{\\bf v}^P$"
   ]
  },
  {
   "cell_type": "code",
   "execution_count": 14,
   "metadata": {},
   "outputs": [
    {
     "data": {
      "image/png": "[encoded data removed]",
      "text/latex": [
       "$\\displaystyle \\dot{x}\\mathbf{\\hat{b}_y}$"
      ],
      "text/plain": [
       "ẋ b_y"
      ]
     },
     "execution_count": 14,
     "metadata": {},
     "output_type": "execute_result"
    }
   ],
   "source": [
    "P.set_vel(B, x_scalar_dot*B.y)\n",
    "B_v_P = P.vel(B)\n",
    "B_v_P"
   ]
  },
  {
   "cell_type": "markdown",
   "metadata": {},
   "source": [
    "Now, we can finally compute the $^B{\\bf v}^P$ by implementing the 2 point theorem:"
   ]
  },
  {
   "cell_type": "code",
   "execution_count": 15,
   "metadata": {},
   "outputs": [
    {
     "data": {
      "image/png": "[encoded data removed]",
      "text/latex": [
       "$\\displaystyle (- l \\dot{\\theta}_{1} - \\left(\\dot{\\theta}_{1} + \\dot{\\theta}_{2}\\right) x \\cos{\\left(\\theta_{2} \\right)} - \\sin{\\left(\\theta_{2} \\right)} \\dot{x})\\mathbf{\\hat{a}_x} + (- \\left(\\dot{\\theta}_{1} + \\dot{\\theta}_{2}\\right) x \\sin{\\left(\\theta_{2} \\right)} + \\cos{\\left(\\theta_{2} \\right)} \\dot{x})\\mathbf{\\hat{a}_y}$"
      ],
      "text/plain": [
       "(-l⋅θ₁̇ - (θ₁̇ + θ₂̇)⋅x⋅cos(θ₂) - sin(θ₂)⋅ẋ) a_x + (-(θ₁̇ + θ₂̇)⋅x⋅sin(θ₂) +\n",
       "cos(θ₂)⋅ẋ) a_y"
      ]
     },
     "execution_count": 15,
     "metadata": {},
     "output_type": "execute_result"
    }
   ],
   "source": [
    "N_w_B = B.ang_vel_in(N)\n",
    "N_v_P_approach2 = B_v_P + N_v_Q + N_w_B.cross(r_QP_vector)\n",
    "N_v_P_approach2.express(A)"
   ]
  }
 ],
 "metadata": {
  "kernelspec": {
   "display_name": "Python 3",
   "language": "python",
   "name": "python3"
  },
  "language_info": {
   "codemirror_mode": {
    "name": "ipython",
    "version": 3
   },
   "file_extension": ".py",
   "mimetype": "text/x-python",
   "name": "python",
   "nbconvert_exporter": "python",
   "pygments_lexer": "ipython3",
   "version": "3.7.6"
  },
  "toc": {
   "base_numbering": 1,
   "nav_menu": {},
   "number_sections": true,
   "sideBar": true,
   "skip_h1_title": false,
   "title_cell": "Table of Contents",
   "title_sidebar": "Contents",
   "toc_cell": true,
   "toc_position": {},
   "toc_section_display": true,
   "toc_window_display": false
  }
 },
 "nbformat": 4,
 "nbformat_minor": 4
}
